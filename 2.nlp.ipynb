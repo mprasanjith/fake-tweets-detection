{
 "cells": [
  {
   "cell_type": "markdown",
   "metadata": {},
   "source": [
    "# Identifying Fake News on Twitter - Stylistic Model"
   ]
  },
  {
   "cell_type": "code",
   "execution_count": 1,
   "metadata": {},
   "outputs": [],
   "source": [
    "from fastai.text import * "
   ]
  },
  {
   "cell_type": "code",
   "execution_count": 2,
   "metadata": {},
   "outputs": [],
   "source": [
    "from pathlib import Path\n",
    "\n",
    "rootdir = Path('./')"
   ]
  },
  {
   "cell_type": "code",
   "execution_count": 3,
   "metadata": {},
   "outputs": [
    {
     "data": {
      "text/html": [
       "<div>\n",
       "<style scoped>\n",
       "    .dataframe tbody tr th:only-of-type {\n",
       "        vertical-align: middle;\n",
       "    }\n",
       "\n",
       "    .dataframe tbody tr th {\n",
       "        vertical-align: top;\n",
       "    }\n",
       "\n",
       "    .dataframe thead th {\n",
       "        text-align: right;\n",
       "    }\n",
       "</style>\n",
       "<table border=\"1\" class=\"dataframe\">\n",
       "  <thead>\n",
       "    <tr style=\"text-align: right;\">\n",
       "      <th></th>\n",
       "      <th>annotation</th>\n",
       "      <th>has_location</th>\n",
       "      <th>has_media</th>\n",
       "      <th>id</th>\n",
       "      <th>num_hashtags</th>\n",
       "      <th>num_likes</th>\n",
       "      <th>num_mentions</th>\n",
       "      <th>num_retweets</th>\n",
       "      <th>num_urls</th>\n",
       "      <th>text</th>\n",
       "      <th>user_no_profile_image</th>\n",
       "      <th>user_num_favourite_tweets</th>\n",
       "      <th>user_num_followers</th>\n",
       "      <th>user_num_friends</th>\n",
       "      <th>user_num_lists</th>\n",
       "      <th>user_num_tweets</th>\n",
       "      <th>user_protected</th>\n",
       "      <th>user_verified</th>\n",
       "    </tr>\n",
       "  </thead>\n",
       "  <tbody>\n",
       "    <tr>\n",
       "      <th>0</th>\n",
       "      <td>True</td>\n",
       "      <td>False</td>\n",
       "      <td>False</td>\n",
       "      <td>553585504093224962</td>\n",
       "      <td>1</td>\n",
       "      <td>165</td>\n",
       "      <td>0</td>\n",
       "      <td>371</td>\n",
       "      <td>1</td>\n",
       "      <td>Suspected #CharlieHebdo killers are in same ji...</td>\n",
       "      <td>False</td>\n",
       "      <td>13</td>\n",
       "      <td>22719054</td>\n",
       "      <td>113</td>\n",
       "      <td>160916</td>\n",
       "      <td>37210</td>\n",
       "      <td>False</td>\n",
       "      <td>True</td>\n",
       "    </tr>\n",
       "    <tr>\n",
       "      <th>1</th>\n",
       "      <td>False</td>\n",
       "      <td>False</td>\n",
       "      <td>False</td>\n",
       "      <td>544277728930062336</td>\n",
       "      <td>0</td>\n",
       "      <td>56</td>\n",
       "      <td>0</td>\n",
       "      <td>251</td>\n",
       "      <td>0</td>\n",
       "      <td>SYDNEY AIRSPACE CLOSED</td>\n",
       "      <td>False</td>\n",
       "      <td>299</td>\n",
       "      <td>201996</td>\n",
       "      <td>3446</td>\n",
       "      <td>2228</td>\n",
       "      <td>21817</td>\n",
       "      <td>False</td>\n",
       "      <td>False</td>\n",
       "    </tr>\n",
       "    <tr>\n",
       "      <th>2</th>\n",
       "      <td>True</td>\n",
       "      <td>False</td>\n",
       "      <td>False</td>\n",
       "      <td>544519622389956609</td>\n",
       "      <td>1</td>\n",
       "      <td>110</td>\n",
       "      <td>0</td>\n",
       "      <td>107</td>\n",
       "      <td>0</td>\n",
       "      <td>thank god  #SydneySiege is over. so much respe...</td>\n",
       "      <td>False</td>\n",
       "      <td>20745</td>\n",
       "      <td>224483</td>\n",
       "      <td>7810</td>\n",
       "      <td>1298</td>\n",
       "      <td>53735</td>\n",
       "      <td>False</td>\n",
       "      <td>False</td>\n",
       "    </tr>\n",
       "    <tr>\n",
       "      <th>3</th>\n",
       "      <td>True</td>\n",
       "      <td>False</td>\n",
       "      <td>False</td>\n",
       "      <td>580327336505176064</td>\n",
       "      <td>0</td>\n",
       "      <td>44</td>\n",
       "      <td>0</td>\n",
       "      <td>383</td>\n",
       "      <td>1</td>\n",
       "      <td>Germanwings plane crashes in France, up to 150...</td>\n",
       "      <td>False</td>\n",
       "      <td>841</td>\n",
       "      <td>6446943</td>\n",
       "      <td>1053</td>\n",
       "      <td>91710</td>\n",
       "      <td>117720</td>\n",
       "      <td>False</td>\n",
       "      <td>True</td>\n",
       "    </tr>\n",
       "    <tr>\n",
       "      <th>4</th>\n",
       "      <td>False</td>\n",
       "      <td>False</td>\n",
       "      <td>True</td>\n",
       "      <td>552981833189969921</td>\n",
       "      <td>1</td>\n",
       "      <td>134</td>\n",
       "      <td>0</td>\n",
       "      <td>233</td>\n",
       "      <td>0</td>\n",
       "      <td>Nice work from Banksy #JeSuisCharlie http://t....</td>\n",
       "      <td>False</td>\n",
       "      <td>1025</td>\n",
       "      <td>119372</td>\n",
       "      <td>222</td>\n",
       "      <td>837</td>\n",
       "      <td>3795</td>\n",
       "      <td>False</td>\n",
       "      <td>False</td>\n",
       "    </tr>\n",
       "  </tbody>\n",
       "</table>\n",
       "</div>"
      ],
      "text/plain": [
       "   annotation  has_location  has_media                  id  num_hashtags  \\\n",
       "0        True         False      False  553585504093224962             1   \n",
       "1       False         False      False  544277728930062336             0   \n",
       "2        True         False      False  544519622389956609             1   \n",
       "3        True         False      False  580327336505176064             0   \n",
       "4       False         False       True  552981833189969921             1   \n",
       "\n",
       "   num_likes  num_mentions  num_retweets  num_urls  \\\n",
       "0        165             0           371         1   \n",
       "1         56             0           251         0   \n",
       "2        110             0           107         0   \n",
       "3         44             0           383         1   \n",
       "4        134             0           233         0   \n",
       "\n",
       "                                                text  user_no_profile_image  \\\n",
       "0  Suspected #CharlieHebdo killers are in same ji...                  False   \n",
       "1                             SYDNEY AIRSPACE CLOSED                  False   \n",
       "2  thank god  #SydneySiege is over. so much respe...                  False   \n",
       "3  Germanwings plane crashes in France, up to 150...                  False   \n",
       "4  Nice work from Banksy #JeSuisCharlie http://t....                  False   \n",
       "\n",
       "   user_num_favourite_tweets  user_num_followers  user_num_friends  \\\n",
       "0                         13            22719054               113   \n",
       "1                        299              201996              3446   \n",
       "2                      20745              224483              7810   \n",
       "3                        841             6446943              1053   \n",
       "4                       1025              119372               222   \n",
       "\n",
       "   user_num_lists  user_num_tweets  user_protected  user_verified  \n",
       "0          160916            37210           False           True  \n",
       "1            2228            21817           False          False  \n",
       "2            1298            53735           False          False  \n",
       "3           91710           117720           False           True  \n",
       "4             837             3795           False          False  "
      ]
     },
     "execution_count": 3,
     "metadata": {},
     "output_type": "execute_result"
    }
   ],
   "source": [
    "df = pd.read_csv(rootdir/'tweets.csv')\n",
    "df.head()"
   ]
  },
  {
   "cell_type": "markdown",
   "metadata": {},
   "source": [
    "# Language model"
   ]
  },
  {
   "cell_type": "code",
   "execution_count": 4,
   "metadata": {},
   "outputs": [],
   "source": [
    "data_lm = TextLMDataBunch.from_csv(rootdir, 'tweets.csv', text_cols=[\"text\"], label_cols=[\"annotation\"])"
   ]
  },
  {
   "cell_type": "code",
   "execution_count": 5,
   "metadata": {},
   "outputs": [],
   "source": [
    "data_lm.save('data_lm_export.pkl')"
   ]
  },
  {
   "cell_type": "code",
   "execution_count": 6,
   "metadata": {},
   "outputs": [],
   "source": [
    "data_lm = load_data(rootdir, 'data_lm_export.pkl')"
   ]
  },
  {
   "cell_type": "code",
   "execution_count": 7,
   "metadata": {},
   "outputs": [
    {
     "data": {
      "text/html": [
       "<table border=\"1\" class=\"dataframe\">\n",
       "  <thead>\n",
       "    <tr style=\"text-align: left;\">\n",
       "      <th>epoch</th>\n",
       "      <th>train_loss</th>\n",
       "      <th>valid_loss</th>\n",
       "      <th>accuracy</th>\n",
       "      <th>time</th>\n",
       "    </tr>\n",
       "  </thead>\n",
       "  <tbody>\n",
       "    <tr>\n",
       "      <td>0</td>\n",
       "      <td>5.485263</td>\n",
       "      <td>4.750120</td>\n",
       "      <td>0.297321</td>\n",
       "      <td>01:27</td>\n",
       "    </tr>\n",
       "  </tbody>\n",
       "</table>"
      ],
      "text/plain": [
       "<IPython.core.display.HTML object>"
      ]
     },
     "metadata": {},
     "output_type": "display_data"
    }
   ],
   "source": [
    "learn = language_model_learner(data_lm, AWD_LSTM, drop_mult=0.5)\n",
    "learn.fit_one_cycle(1, 1e-2)"
   ]
  },
  {
   "cell_type": "code",
   "execution_count": 8,
   "metadata": {},
   "outputs": [
    {
     "data": {
      "text/plain": [
       "'RT and North American EXTENDED THE'"
      ]
     },
     "execution_count": 8,
     "metadata": {},
     "output_type": "execute_result"
    }
   ],
   "source": [
    "learn.predict(\"RT\", n_words=10)"
   ]
  },
  {
   "cell_type": "code",
   "execution_count": 9,
   "metadata": {},
   "outputs": [],
   "source": [
    "learn.save_encoder('lm_enc')"
   ]
  },
  {
   "cell_type": "markdown",
   "metadata": {},
   "source": [
    "# Text Classification Model"
   ]
  },
  {
   "cell_type": "code",
   "execution_count": 10,
   "metadata": {},
   "outputs": [],
   "source": [
    "data_clas = TextClasDataBunch.from_csv(rootdir, 'tweets.csv', vocab=data_lm.train_ds.vocab, bs=32, text_cols=[\"text\"], label_cols=[\"annotation\"])"
   ]
  },
  {
   "cell_type": "code",
   "execution_count": 11,
   "metadata": {},
   "outputs": [],
   "source": [
    "data_clas.save('data_clas_export.pkl')"
   ]
  },
  {
   "cell_type": "code",
   "execution_count": 12,
   "metadata": {},
   "outputs": [],
   "source": [
    "data_clas = load_data(rootdir, 'data_clas_export.pkl', bs=16)"
   ]
  },
  {
   "cell_type": "code",
   "execution_count": 16,
   "metadata": {},
   "outputs": [],
   "source": [
    "learn = text_classifier_learner(data_clas, AWD_LSTM, drop_mult=0.5)\n",
    "learn.load_encoder('ft_enc')"
   ]
  },
  {
   "cell_type": "code",
   "execution_count": 17,
   "metadata": {},
   "outputs": [
    {
     "data": {
      "text/html": [
       "<table border=\"1\" class=\"dataframe\">\n",
       "  <thead>\n",
       "    <tr style=\"text-align: right;\">\n",
       "      <th>text</th>\n",
       "      <th>target</th>\n",
       "    </tr>\n",
       "  </thead>\n",
       "  <tbody>\n",
       "    <tr>\n",
       "      <td>xxbos xxup breaking xxup news : xxup gunman xxup demanding xxup to xxup speak xxup to xxup australian xxup prime xxup minister xxup and xxup also xxup asking xxup for xxup an xxup islamic xxup state xxup flag xxup to xxup be xxup brought xxup to xxup lindt xxup cafe .</td>\n",
       "      <td>True</td>\n",
       "    </tr>\n",
       "    <tr>\n",
       "      <td>xxbos # xxup breaking : xxmaj the xxmaj artist xxmaj formerly xxmaj known xxmaj to xxmaj perform xxmaj will xxmaj not xxmaj be xxmaj doing xxmaj so xxmaj xxunk . xxmaj sorry xxmaj prince xxmaj fans . # xxmaj toronto # xxmaj concert # xxmaj xxunk</td>\n",
       "      <td>False</td>\n",
       "    </tr>\n",
       "    <tr>\n",
       "      <td>xxbos xxup german xxup news xxup report : xxmaj co - xxmaj pilot of xxmaj germanwings xxmaj airbus xxmaj was xxup muslim xxup convert … ’ xxmaj hero of xxmaj islamic xxmaj state ’ ? http : / / t.co / xxmaj xxunk m via @gatewaypundit</td>\n",
       "      <td>False</td>\n",
       "    </tr>\n",
       "    <tr>\n",
       "      <td>xxbos # xxmaj germanwings xxmaj co xxmaj pilot xxmaj new xxmaj muslim xxmaj convert \\n \\n  xxmaj islamic xxmaj state xxmaj xxunk xxmaj their xxmaj hero \\n \\n  # wakeupamerica xxunk xxunk \\n  http : / / t.co / xxunk http : / / t.co / xxunk</td>\n",
       "      <td>False</td>\n",
       "    </tr>\n",
       "    <tr>\n",
       "      <td>xxbos # xxmaj germanwings latest : http : / / t.co / xxunk \\n  - # xxmaj airbus xxup a320 crashes in xxmaj french xxmaj alps \\n  - xxmaj barcelona - to - xxmaj dusseldorf flight \\n  - 142 passengers &amp; &amp; 6 crew</td>\n",
       "      <td>False</td>\n",
       "    </tr>\n",
       "  </tbody>\n",
       "</table>"
      ],
      "text/plain": [
       "<IPython.core.display.HTML object>"
      ]
     },
     "metadata": {},
     "output_type": "display_data"
    }
   ],
   "source": [
    "data_clas.show_batch()"
   ]
  },
  {
   "cell_type": "code",
   "execution_count": 18,
   "metadata": {},
   "outputs": [
    {
     "data": {
      "text/html": [],
      "text/plain": [
       "<IPython.core.display.HTML object>"
      ]
     },
     "metadata": {},
     "output_type": "display_data"
    },
    {
     "name": "stdout",
     "output_type": "stream",
     "text": [
      "LR Finder is complete, type {learner_name}.recorder.plot() to see the graph.\n"
     ]
    }
   ],
   "source": [
    "learn.lr_find()"
   ]
  },
  {
   "cell_type": "code",
   "execution_count": 19,
   "metadata": {},
   "outputs": [
    {
     "data": {
      "image/png": "[encoded data removed]",
      "text/plain": [
       "<Figure size 432x288 with 1 Axes>"
      ]
     },
     "metadata": {},
     "output_type": "display_data"
    }
   ],
   "source": [
    "learn.recorder.plot()"
   ]
  },
  {
   "cell_type": "code",
   "execution_count": 20,
   "metadata": {},
   "outputs": [
    {
     "data": {
      "text/html": [
       "<table border=\"1\" class=\"dataframe\">\n",
       "  <thead>\n",
       "    <tr style=\"text-align: left;\">\n",
       "      <th>epoch</th>\n",
       "      <th>train_loss</th>\n",
       "      <th>valid_loss</th>\n",
       "      <th>accuracy</th>\n",
       "      <th>time</th>\n",
       "    </tr>\n",
       "  </thead>\n",
       "  <tbody>\n",
       "    <tr>\n",
       "      <td>0</td>\n",
       "      <td>0.597770</td>\n",
       "      <td>0.527242</td>\n",
       "      <td>0.763158</td>\n",
       "      <td>01:53</td>\n",
       "    </tr>\n",
       "  </tbody>\n",
       "</table>"
      ],
      "text/plain": [
       "<IPython.core.display.HTML object>"
      ]
     },
     "metadata": {},
     "output_type": "display_data"
    }
   ],
   "source": [
    "learn.fit_one_cycle(1, 1e-2)"
   ]
  },
  {
   "cell_type": "code",
   "execution_count": 21,
   "metadata": {},
   "outputs": [
    {
     "data": {
      "text/html": [],
      "text/plain": [
       "<IPython.core.display.HTML object>"
      ]
     },
     "metadata": {},
     "output_type": "display_data"
    },
    {
     "name": "stdout",
     "output_type": "stream",
     "text": [
      "LR Finder is complete, type {learner_name}.recorder.plot() to see the graph.\n"
     ]
    },
    {
     "data": {
      "image/png": "[encoded data removed]",
      "text/plain": [
       "<Figure size 432x288 with 1 Axes>"
      ]
     },
     "metadata": {},
     "output_type": "display_data"
    }
   ],
   "source": [
    "learn.lr_find()\n",
    "learn.recorder.plot()"
   ]
  },
  {
   "cell_type": "code",
   "execution_count": 22,
   "metadata": {},
   "outputs": [
    {
     "data": {
      "text/html": [
       "<table border=\"1\" class=\"dataframe\">\n",
       "  <thead>\n",
       "    <tr style=\"text-align: right;\">\n",
       "      <th>text</th>\n",
       "      <th>target</th>\n",
       "      <th>prediction</th>\n",
       "    </tr>\n",
       "  </thead>\n",
       "  <tbody>\n",
       "    <tr>\n",
       "      <td>xxbos xxmaj possibly - xxunk - but - who - the - hell - knows - with - this - xxunk - really : xxmaj prince @ xxmaj massey xxmaj hall - xxmaj xxunk 4 ( 2 shows and yes that 's tonight ) xxup xxunk &gt;</td>\n",
       "      <td>False</td>\n",
       "      <td>False</td>\n",
       "    </tr>\n",
       "    <tr>\n",
       "      <td>xxbos xxup developing : xxmaj gunman xxmaj takes xxmaj hostages xxmaj in xxmaj sydney xxmaj cafe , ' xxup isis ' xxmaj flags xxmaj being xxmaj held xxmaj against xxmaj window - http : / / t.co / gdkig15yun http : / / t.co / xxunk</td>\n",
       "      <td>True</td>\n",
       "      <td>True</td>\n",
       "    </tr>\n",
       "    <tr>\n",
       "      <td>xxbos xxmaj gendarmerie xxunk at the hostage taking in xxmaj dammartin - en - xxmaj goele . xxmaj latest : http : / / t.co / 7n7uvclhwy ( xxmaj pic : xxmaj xxunk / xxmaj reuters ) http : / / t.co / xxunk</td>\n",
       "      <td>True</td>\n",
       "      <td>True</td>\n",
       "    </tr>\n",
       "    <tr>\n",
       "      <td>xxbos # xxmaj putin / s \" death \" or another # xxunk ? xxmaj military xxunk 's flying over # xxmaj xxunk &gt; http : / / t.co / xxunk # xxmaj xxunk # xxmaj russia # xxmaj putindead # xxup xxunk</td>\n",
       "      <td>False</td>\n",
       "      <td>False</td>\n",
       "    </tr>\n",
       "    <tr>\n",
       "      <td>xxbos xxmaj xxunk - a - block w xxmaj prince fans at surprise xxmaj massey xxmaj hall concert in xxup xxunk # xxunk xxmaj he so xxunk xxmaj xxunk http : / / t.co / xxunk http : / / t.co / xxunk</td>\n",
       "      <td>False</td>\n",
       "      <td>False</td>\n",
       "    </tr>\n",
       "  </tbody>\n",
       "</table>"
      ],
      "text/plain": [
       "<IPython.core.display.HTML object>"
      ]
     },
     "metadata": {},
     "output_type": "display_data"
    }
   ],
   "source": [
    "learn.show_results()"
   ]
  },
  {
   "cell_type": "code",
   "execution_count": 26,
   "metadata": {},
   "outputs": [],
   "source": [
    "learn.save('train_clas')"
   ]
  },
  {
   "cell_type": "code",
   "execution_count": 28,
   "metadata": {},
   "outputs": [],
   "source": [
    "learn.export(file = 'model_clas.pkl')"
   ]
  }
 ],
 "metadata": {
  "kernelspec": {
   "display_name": "Python 3",
   "language": "python",
   "name": "python3"
  },
  "language_info": {
   "codemirror_mode": {
    "name": "ipython",
    "version": 3
   },
   "file_extension": ".py",
   "mimetype": "text/x-python",
   "name": "python",
   "nbconvert_exporter": "python",
   "pygments_lexer": "ipython3",
   "version": "3.6.5"
  }
 },
 "nbformat": 4,
 "nbformat_minor": 4
}
