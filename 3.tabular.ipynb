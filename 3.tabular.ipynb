{
 "cells": [
  {
   "cell_type": "markdown",
   "metadata": {},
   "source": [
    "# Identifying Fake News on Twitter - Final Model"
   ]
  },
  {
   "cell_type": "code",
   "execution_count": 74,
   "metadata": {},
   "outputs": [],
   "source": [
    "from fastai.tabular import *"
   ]
  },
  {
   "cell_type": "markdown",
   "metadata": {},
   "source": [
    "First, let's load the dataset."
   ]
  },
  {
   "cell_type": "code",
   "execution_count": 75,
   "metadata": {},
   "outputs": [],
   "source": [
    "from pathlib import Path\n",
    "path = Path('./')"
   ]
  },
  {
   "cell_type": "code",
   "execution_count": 76,
   "metadata": {},
   "outputs": [],
   "source": [
    "df = pd.read_csv(path/'tweets.csv')"
   ]
  },
  {
   "cell_type": "code",
   "execution_count": 77,
   "metadata": {},
   "outputs": [
    {
     "data": {
      "text/html": [
       "<div>\n",
       "<style scoped>\n",
       "    .dataframe tbody tr th:only-of-type {\n",
       "        vertical-align: middle;\n",
       "    }\n",
       "\n",
       "    .dataframe tbody tr th {\n",
       "        vertical-align: top;\n",
       "    }\n",
       "\n",
       "    .dataframe thead th {\n",
       "        text-align: right;\n",
       "    }\n",
       "</style>\n",
       "<table border=\"1\" class=\"dataframe\">\n",
       "  <thead>\n",
       "    <tr style=\"text-align: right;\">\n",
       "      <th></th>\n",
       "      <th>id</th>\n",
       "      <th>num_hashtags</th>\n",
       "      <th>num_likes</th>\n",
       "      <th>num_mentions</th>\n",
       "      <th>num_retweets</th>\n",
       "      <th>num_urls</th>\n",
       "      <th>user_num_favourite_tweets</th>\n",
       "      <th>user_num_followers</th>\n",
       "      <th>user_num_friends</th>\n",
       "      <th>user_num_lists</th>\n",
       "      <th>user_num_tweets</th>\n",
       "    </tr>\n",
       "  </thead>\n",
       "  <tbody>\n",
       "    <tr>\n",
       "      <th>count</th>\n",
       "      <td>1.705000e+03</td>\n",
       "      <td>1705.000000</td>\n",
       "      <td>1705.000000</td>\n",
       "      <td>1705.000000</td>\n",
       "      <td>1705.000000</td>\n",
       "      <td>1705.000000</td>\n",
       "      <td>1705.000000</td>\n",
       "      <td>1.705000e+03</td>\n",
       "      <td>1705.000000</td>\n",
       "      <td>1.705000e+03</td>\n",
       "      <td>1705.000000</td>\n",
       "    </tr>\n",
       "    <tr>\n",
       "      <th>mean</th>\n",
       "      <td>5.431026e+17</td>\n",
       "      <td>0.843988</td>\n",
       "      <td>126.095601</td>\n",
       "      <td>0.203519</td>\n",
       "      <td>287.282111</td>\n",
       "      <td>0.531378</td>\n",
       "      <td>2245.202346</td>\n",
       "      <td>1.668577e+06</td>\n",
       "      <td>3525.850440</td>\n",
       "      <td>1.846310e+04</td>\n",
       "      <td>57486.170674</td>\n",
       "    </tr>\n",
       "    <tr>\n",
       "      <th>std</th>\n",
       "      <td>1.789267e+16</td>\n",
       "      <td>0.930855</td>\n",
       "      <td>1701.099923</td>\n",
       "      <td>0.512965</td>\n",
       "      <td>1023.600350</td>\n",
       "      <td>0.516495</td>\n",
       "      <td>11002.962004</td>\n",
       "      <td>3.881032e+06</td>\n",
       "      <td>16372.334001</td>\n",
       "      <td>6.450570e+04</td>\n",
       "      <td>61227.214167</td>\n",
       "    </tr>\n",
       "    <tr>\n",
       "      <th>min</th>\n",
       "      <td>4.982543e+17</td>\n",
       "      <td>0.000000</td>\n",
       "      <td>0.000000</td>\n",
       "      <td>0.000000</td>\n",
       "      <td>1.000000</td>\n",
       "      <td>0.000000</td>\n",
       "      <td>0.000000</td>\n",
       "      <td>4.000000e+00</td>\n",
       "      <td>0.000000</td>\n",
       "      <td>0.000000e+00</td>\n",
       "      <td>4.000000</td>\n",
       "    </tr>\n",
       "    <tr>\n",
       "      <th>25%</th>\n",
       "      <td>5.250674e+17</td>\n",
       "      <td>0.000000</td>\n",
       "      <td>14.000000</td>\n",
       "      <td>0.000000</td>\n",
       "      <td>100.000000</td>\n",
       "      <td>0.000000</td>\n",
       "      <td>15.000000</td>\n",
       "      <td>1.253000e+04</td>\n",
       "      <td>296.000000</td>\n",
       "      <td>2.620000e+02</td>\n",
       "      <td>11447.000000</td>\n",
       "    </tr>\n",
       "    <tr>\n",
       "      <th>50%</th>\n",
       "      <td>5.443001e+17</td>\n",
       "      <td>1.000000</td>\n",
       "      <td>36.000000</td>\n",
       "      <td>0.000000</td>\n",
       "      <td>145.000000</td>\n",
       "      <td>1.000000</td>\n",
       "      <td>161.000000</td>\n",
       "      <td>1.418420e+05</td>\n",
       "      <td>570.000000</td>\n",
       "      <td>1.966000e+03</td>\n",
       "      <td>37117.000000</td>\n",
       "    </tr>\n",
       "    <tr>\n",
       "      <th>75%</th>\n",
       "      <td>5.528345e+17</td>\n",
       "      <td>1.000000</td>\n",
       "      <td>82.000000</td>\n",
       "      <td>0.000000</td>\n",
       "      <td>266.000000</td>\n",
       "      <td>1.000000</td>\n",
       "      <td>843.000000</td>\n",
       "      <td>8.937250e+05</td>\n",
       "      <td>1644.000000</td>\n",
       "      <td>1.336500e+04</td>\n",
       "      <td>94820.000000</td>\n",
       "    </tr>\n",
       "    <tr>\n",
       "      <th>max</th>\n",
       "      <td>5.815507e+17</td>\n",
       "      <td>7.000000</td>\n",
       "      <td>69825.000000</td>\n",
       "      <td>6.000000</td>\n",
       "      <td>37264.000000</td>\n",
       "      <td>2.000000</td>\n",
       "      <td>208101.000000</td>\n",
       "      <td>2.529987e+07</td>\n",
       "      <td>453460.000000</td>\n",
       "      <td>2.275623e+06</td>\n",
       "      <td>621399.000000</td>\n",
       "    </tr>\n",
       "  </tbody>\n",
       "</table>\n",
       "</div>"
      ],
      "text/plain": [
       "                 id  num_hashtags     num_likes  num_mentions  num_retweets  \\\n",
       "count  1.705000e+03   1705.000000   1705.000000   1705.000000   1705.000000   \n",
       "mean   5.431026e+17      0.843988    126.095601      0.203519    287.282111   \n",
       "std    1.789267e+16      0.930855   1701.099923      0.512965   1023.600350   \n",
       "min    4.982543e+17      0.000000      0.000000      0.000000      1.000000   \n",
       "25%    5.250674e+17      0.000000     14.000000      0.000000    100.000000   \n",
       "50%    5.443001e+17      1.000000     36.000000      0.000000    145.000000   \n",
       "75%    5.528345e+17      1.000000     82.000000      0.000000    266.000000   \n",
       "max    5.815507e+17      7.000000  69825.000000      6.000000  37264.000000   \n",
       "\n",
       "          num_urls  user_num_favourite_tweets  user_num_followers  \\\n",
       "count  1705.000000                1705.000000        1.705000e+03   \n",
       "mean      0.531378                2245.202346        1.668577e+06   \n",
       "std       0.516495               11002.962004        3.881032e+06   \n",
       "min       0.000000                   0.000000        4.000000e+00   \n",
       "25%       0.000000                  15.000000        1.253000e+04   \n",
       "50%       1.000000                 161.000000        1.418420e+05   \n",
       "75%       1.000000                 843.000000        8.937250e+05   \n",
       "max       2.000000              208101.000000        2.529987e+07   \n",
       "\n",
       "       user_num_friends  user_num_lists  user_num_tweets  \n",
       "count       1705.000000    1.705000e+03      1705.000000  \n",
       "mean        3525.850440    1.846310e+04     57486.170674  \n",
       "std        16372.334001    6.450570e+04     61227.214167  \n",
       "min            0.000000    0.000000e+00         4.000000  \n",
       "25%          296.000000    2.620000e+02     11447.000000  \n",
       "50%          570.000000    1.966000e+03     37117.000000  \n",
       "75%         1644.000000    1.336500e+04     94820.000000  \n",
       "max       453460.000000    2.275623e+06    621399.000000  "
      ]
     },
     "execution_count": 77,
     "metadata": {},
     "output_type": "execute_result"
    }
   ],
   "source": [
    "df.describe()"
   ]
  },
  {
   "cell_type": "code",
   "execution_count": 78,
   "metadata": {},
   "outputs": [
    {
     "data": {
      "text/html": [
       "<div>\n",
       "<style scoped>\n",
       "    .dataframe tbody tr th:only-of-type {\n",
       "        vertical-align: middle;\n",
       "    }\n",
       "\n",
       "    .dataframe tbody tr th {\n",
       "        vertical-align: top;\n",
       "    }\n",
       "\n",
       "    .dataframe thead th {\n",
       "        text-align: right;\n",
       "    }\n",
       "</style>\n",
       "<table border=\"1\" class=\"dataframe\">\n",
       "  <thead>\n",
       "    <tr style=\"text-align: right;\">\n",
       "      <th></th>\n",
       "      <th>annotation</th>\n",
       "      <th>has_location</th>\n",
       "      <th>has_media</th>\n",
       "      <th>id</th>\n",
       "      <th>num_hashtags</th>\n",
       "      <th>num_likes</th>\n",
       "      <th>num_mentions</th>\n",
       "      <th>num_retweets</th>\n",
       "      <th>num_urls</th>\n",
       "      <th>text</th>\n",
       "      <th>user_no_profile_image</th>\n",
       "      <th>user_num_favourite_tweets</th>\n",
       "      <th>user_num_followers</th>\n",
       "      <th>user_num_friends</th>\n",
       "      <th>user_num_lists</th>\n",
       "      <th>user_num_tweets</th>\n",
       "      <th>user_protected</th>\n",
       "      <th>user_verified</th>\n",
       "    </tr>\n",
       "  </thead>\n",
       "  <tbody>\n",
       "    <tr>\n",
       "      <th>0</th>\n",
       "      <td>True</td>\n",
       "      <td>False</td>\n",
       "      <td>False</td>\n",
       "      <td>553585504093224962</td>\n",
       "      <td>1</td>\n",
       "      <td>165</td>\n",
       "      <td>0</td>\n",
       "      <td>371</td>\n",
       "      <td>1</td>\n",
       "      <td>Suspected #CharlieHebdo killers are in same ji...</td>\n",
       "      <td>False</td>\n",
       "      <td>13</td>\n",
       "      <td>22719054</td>\n",
       "      <td>113</td>\n",
       "      <td>160916</td>\n",
       "      <td>37210</td>\n",
       "      <td>False</td>\n",
       "      <td>True</td>\n",
       "    </tr>\n",
       "    <tr>\n",
       "      <th>1</th>\n",
       "      <td>False</td>\n",
       "      <td>False</td>\n",
       "      <td>False</td>\n",
       "      <td>544277728930062336</td>\n",
       "      <td>0</td>\n",
       "      <td>56</td>\n",
       "      <td>0</td>\n",
       "      <td>251</td>\n",
       "      <td>0</td>\n",
       "      <td>SYDNEY AIRSPACE CLOSED</td>\n",
       "      <td>False</td>\n",
       "      <td>299</td>\n",
       "      <td>201996</td>\n",
       "      <td>3446</td>\n",
       "      <td>2228</td>\n",
       "      <td>21817</td>\n",
       "      <td>False</td>\n",
       "      <td>False</td>\n",
       "    </tr>\n",
       "    <tr>\n",
       "      <th>2</th>\n",
       "      <td>True</td>\n",
       "      <td>False</td>\n",
       "      <td>False</td>\n",
       "      <td>544519622389956609</td>\n",
       "      <td>1</td>\n",
       "      <td>110</td>\n",
       "      <td>0</td>\n",
       "      <td>107</td>\n",
       "      <td>0</td>\n",
       "      <td>thank god  #SydneySiege is over. so much respe...</td>\n",
       "      <td>False</td>\n",
       "      <td>20745</td>\n",
       "      <td>224483</td>\n",
       "      <td>7810</td>\n",
       "      <td>1298</td>\n",
       "      <td>53735</td>\n",
       "      <td>False</td>\n",
       "      <td>False</td>\n",
       "    </tr>\n",
       "    <tr>\n",
       "      <th>3</th>\n",
       "      <td>True</td>\n",
       "      <td>False</td>\n",
       "      <td>False</td>\n",
       "      <td>580327336505176064</td>\n",
       "      <td>0</td>\n",
       "      <td>44</td>\n",
       "      <td>0</td>\n",
       "      <td>383</td>\n",
       "      <td>1</td>\n",
       "      <td>Germanwings plane crashes in France, up to 150...</td>\n",
       "      <td>False</td>\n",
       "      <td>841</td>\n",
       "      <td>6446943</td>\n",
       "      <td>1053</td>\n",
       "      <td>91710</td>\n",
       "      <td>117720</td>\n",
       "      <td>False</td>\n",
       "      <td>True</td>\n",
       "    </tr>\n",
       "    <tr>\n",
       "      <th>4</th>\n",
       "      <td>False</td>\n",
       "      <td>False</td>\n",
       "      <td>True</td>\n",
       "      <td>552981833189969921</td>\n",
       "      <td>1</td>\n",
       "      <td>134</td>\n",
       "      <td>0</td>\n",
       "      <td>233</td>\n",
       "      <td>0</td>\n",
       "      <td>Nice work from Banksy #JeSuisCharlie http://t....</td>\n",
       "      <td>False</td>\n",
       "      <td>1025</td>\n",
       "      <td>119372</td>\n",
       "      <td>222</td>\n",
       "      <td>837</td>\n",
       "      <td>3795</td>\n",
       "      <td>False</td>\n",
       "      <td>False</td>\n",
       "    </tr>\n",
       "  </tbody>\n",
       "</table>\n",
       "</div>"
      ],
      "text/plain": [
       "   annotation  has_location  has_media                  id  num_hashtags  \\\n",
       "0        True         False      False  553585504093224962             1   \n",
       "1       False         False      False  544277728930062336             0   \n",
       "2        True         False      False  544519622389956609             1   \n",
       "3        True         False      False  580327336505176064             0   \n",
       "4       False         False       True  552981833189969921             1   \n",
       "\n",
       "   num_likes  num_mentions  num_retweets  num_urls  \\\n",
       "0        165             0           371         1   \n",
       "1         56             0           251         0   \n",
       "2        110             0           107         0   \n",
       "3         44             0           383         1   \n",
       "4        134             0           233         0   \n",
       "\n",
       "                                                text  user_no_profile_image  \\\n",
       "0  Suspected #CharlieHebdo killers are in same ji...                  False   \n",
       "1                             SYDNEY AIRSPACE CLOSED                  False   \n",
       "2  thank god  #SydneySiege is over. so much respe...                  False   \n",
       "3  Germanwings plane crashes in France, up to 150...                  False   \n",
       "4  Nice work from Banksy #JeSuisCharlie http://t....                  False   \n",
       "\n",
       "   user_num_favourite_tweets  user_num_followers  user_num_friends  \\\n",
       "0                         13            22719054               113   \n",
       "1                        299              201996              3446   \n",
       "2                      20745              224483              7810   \n",
       "3                        841             6446943              1053   \n",
       "4                       1025              119372               222   \n",
       "\n",
       "   user_num_lists  user_num_tweets  user_protected  user_verified  \n",
       "0          160916            37210           False           True  \n",
       "1            2228            21817           False          False  \n",
       "2            1298            53735           False          False  \n",
       "3           91710           117720           False           True  \n",
       "4             837             3795           False          False  "
      ]
     },
     "execution_count": 78,
     "metadata": {},
     "output_type": "execute_result"
    }
   ],
   "source": [
    "df.head()"
   ]
  },
  {
   "cell_type": "code",
   "execution_count": 79,
   "metadata": {},
   "outputs": [
    {
     "data": {
      "text/plain": [
       "annotation                     bool\n",
       "has_location                   bool\n",
       "has_media                      bool\n",
       "id                            int64\n",
       "num_hashtags                  int64\n",
       "num_likes                     int64\n",
       "num_mentions                  int64\n",
       "num_retweets                  int64\n",
       "num_urls                      int64\n",
       "text                         object\n",
       "user_no_profile_image          bool\n",
       "user_num_favourite_tweets     int64\n",
       "user_num_followers            int64\n",
       "user_num_friends              int64\n",
       "user_num_lists                int64\n",
       "user_num_tweets               int64\n",
       "user_protected                 bool\n",
       "user_verified                  bool\n",
       "dtype: object"
      ]
     },
     "execution_count": 79,
     "metadata": {},
     "output_type": "execute_result"
    }
   ],
   "source": [
    "df.dtypes"
   ]
  },
  {
   "cell_type": "code",
   "execution_count": 80,
   "metadata": {},
   "outputs": [],
   "source": [
    "df.drop(columns=['text'], inplace=True)"
   ]
  },
  {
   "cell_type": "code",
   "execution_count": 81,
   "metadata": {},
   "outputs": [],
   "source": [
    "dep_var = 'annotation'\n",
    "cat_names = ['has_location', 'has_media', 'user_no_profile_image', 'user_protected', 'user_verified']\n",
    "cont_names = ['num_hashtags', 'num_likes', 'num_mentions', 'num_retweets', 'num_urls', 'user_num_favourite_tweets',\n",
    "              'user_num_followers', 'user_num_friends', 'user_num_lists', 'user_num_tweets']"
   ]
  },
  {
   "cell_type": "code",
   "execution_count": 82,
   "metadata": {},
   "outputs": [],
   "source": [
    "valid_idx = range(len(df)-200, len(df))\n",
    "procs = [FillMissing, Categorify, Normalize]"
   ]
  },
  {
   "cell_type": "code",
   "execution_count": 83,
   "metadata": {},
   "outputs": [],
   "source": [
    "data = TabularDataBunch.from_df(path, df, dep_var, valid_idx=valid_idx, procs=procs, cat_names=cat_names, cont_names=cont_names)"
   ]
  },
  {
   "cell_type": "code",
   "execution_count": 96,
   "metadata": {},
   "outputs": [],
   "source": [
    "learn = tabular_learner(data, layers=[200,100], metrics=accuracy)"
   ]
  },
  {
   "cell_type": "code",
   "execution_count": 85,
   "metadata": {},
   "outputs": [
    {
     "data": {
      "text/html": [],
      "text/plain": [
       "<IPython.core.display.HTML object>"
      ]
     },
     "metadata": {},
     "output_type": "display_data"
    },
    {
     "name": "stdout",
     "output_type": "stream",
     "text": [
      "LR Finder is complete, type {learner_name}.recorder.plot() to see the graph.\n"
     ]
    },
    {
     "data": {
      "image/png": "[encoded data removed]",
      "text/plain": [
       "<Figure size 432x288 with 1 Axes>"
      ]
     },
     "metadata": {},
     "output_type": "display_data"
    }
   ],
   "source": [
    "learn.lr_find()\n",
    "learn.recorder.plot()"
   ]
  },
  {
   "cell_type": "code",
   "execution_count": 97,
   "metadata": {},
   "outputs": [
    {
     "data": {
      "text/html": [
       "<table border=\"1\" class=\"dataframe\">\n",
       "  <thead>\n",
       "    <tr style=\"text-align: left;\">\n",
       "      <th>epoch</th>\n",
       "      <th>train_loss</th>\n",
       "      <th>valid_loss</th>\n",
       "      <th>accuracy</th>\n",
       "      <th>time</th>\n",
       "    </tr>\n",
       "  </thead>\n",
       "  <tbody>\n",
       "    <tr>\n",
       "      <td>0</td>\n",
       "      <td>0.637573</td>\n",
       "      <td>0.621921</td>\n",
       "      <td>0.690000</td>\n",
       "      <td>00:00</td>\n",
       "    </tr>\n",
       "    <tr>\n",
       "      <td>1</td>\n",
       "      <td>0.641803</td>\n",
       "      <td>0.673786</td>\n",
       "      <td>0.575000</td>\n",
       "      <td>00:00</td>\n",
       "    </tr>\n",
       "  </tbody>\n",
       "</table>"
      ],
      "text/plain": [
       "<IPython.core.display.HTML object>"
      ]
     },
     "metadata": {},
     "output_type": "display_data"
    }
   ],
   "source": [
    "learn.fit_one_cycle(2, 1e-1)"
   ]
  },
  {
   "cell_type": "code",
   "execution_count": 87,
   "metadata": {},
   "outputs": [],
   "source": [
    "learn.save('tabular-1')"
   ]
  },
  {
   "cell_type": "code",
   "execution_count": 98,
   "metadata": {},
   "outputs": [
    {
     "data": {
      "text/html": [],
      "text/plain": [
       "<IPython.core.display.HTML object>"
      ]
     },
     "metadata": {},
     "output_type": "display_data"
    },
    {
     "name": "stdout",
     "output_type": "stream",
     "text": [
      "LR Finder is complete, type {learner_name}.recorder.plot() to see the graph.\n"
     ]
    },
    {
     "data": {
      "image/png": "[encoded data removed]",
      "text/plain": [
       "<Figure size 432x288 with 1 Axes>"
      ]
     },
     "metadata": {},
     "output_type": "display_data"
    }
   ],
   "source": [
    "learn.lr_find()\n",
    "learn.recorder.plot()"
   ]
  },
  {
   "cell_type": "code",
   "execution_count": null,
   "metadata": {},
   "outputs": [],
   "source": []
  }
 ],
 "metadata": {
  "kernelspec": {
   "display_name": "Python 3",
   "language": "python",
   "name": "python3"
  },
  "language_info": {
   "codemirror_mode": {
    "name": "ipython",
    "version": 3
   },
   "file_extension": ".py",
   "mimetype": "text/x-python",
   "name": "python",
   "nbconvert_exporter": "python",
   "pygments_lexer": "ipython3",
   "version": "3.6.5"
  }
 },
 "nbformat": 4,
 "nbformat_minor": 2
}
