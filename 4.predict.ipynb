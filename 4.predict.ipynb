{
 "cells": [
  {
   "cell_type": "markdown",
   "metadata": {},
   "source": [
    "# Fake News Detection on Twitter - Inference"
   ]
  },
  {
   "cell_type": "markdown",
   "metadata": {},
   "source": [
    "## Grab Tweet"
   ]
  },
  {
   "cell_type": "code",
   "execution_count": 66,
   "metadata": {},
   "outputs": [
    {
     "name": "stdin",
     "output_type": "stream",
     "text": [
      "Enter tweet ID:  552783745565347840\n"
     ]
    }
   ],
   "source": [
    "tweet_id = input(\"Enter tweet ID: \") "
   ]
  },
  {
   "cell_type": "code",
   "execution_count": 32,
   "metadata": {},
   "outputs": [],
   "source": [
    "consumer_key = \"\"\n",
    "consumer_secret = \"\"\n",
    "access_token = \"\"\n",
    "access_token_secret = \"\""
   ]
  },
  {
   "cell_type": "code",
   "execution_count": 33,
   "metadata": {},
   "outputs": [
    {
     "name": "stdout",
     "output_type": "stream",
     "text": [
      "Requirement already satisfied: tweepy in /usr/local/lib/python3.6/site-packages (3.8.0)\n",
      "Requirement already satisfied: PySocks>=1.5.7 in /usr/local/lib/python3.6/site-packages (from tweepy) (1.7.1)\n",
      "Requirement already satisfied: requests>=2.11.1 in /usr/local/lib/python3.6/site-packages (from tweepy) (2.21.0)\n",
      "Requirement already satisfied: requests-oauthlib>=0.7.0 in /usr/local/lib/python3.6/site-packages (from tweepy) (1.3.0)\n",
      "Requirement already satisfied: six>=1.10.0 in /usr/local/lib/python3.6/site-packages (from tweepy) (1.11.0)\n",
      "Requirement already satisfied: chardet<3.1.0,>=3.0.2 in /usr/local/lib/python3.6/site-packages (from requests>=2.11.1->tweepy) (3.0.4)\n",
      "Requirement already satisfied: urllib3<1.25,>=1.21.1 in /usr/local/lib/python3.6/site-packages (from requests>=2.11.1->tweepy) (1.24.2)\n",
      "Requirement already satisfied: idna<2.9,>=2.5 in /usr/local/lib/python3.6/site-packages (from requests>=2.11.1->tweepy) (2.8)\n",
      "Requirement already satisfied: certifi>=2017.4.17 in /usr/local/lib/python3.6/site-packages (from requests>=2.11.1->tweepy) (2019.3.9)\n",
      "Requirement already satisfied: oauthlib>=3.0.0 in /usr/local/lib/python3.6/site-packages (from requests-oauthlib>=0.7.0->tweepy) (3.1.0)\n",
      "\u001b[31mscikit-umfpack 0.3.2 has requirement numpy>=1.15.3, but you'll have numpy 1.15.1 which is incompatible.\u001b[0m\n",
      "\u001b[31mmenpo 0.8.1 has requirement matplotlib<2.0,>=1.4, but you'll have matplotlib 2.2.3 which is incompatible.\u001b[0m\n",
      "\u001b[31mmenpo 0.8.1 has requirement pillow<5.0,>=3.0, but you'll have pillow 5.2.0 which is incompatible.\u001b[0m\n",
      "\u001b[31mmenpo 0.8.1 has requirement scipy<1.0,>=0.16, but you'll have scipy 1.1.0 which is incompatible.\u001b[0m\n",
      "\u001b[33mYou are using pip version 10.0.1, however version 20.0.2 is available.\n",
      "You should consider upgrading via the 'pip install --upgrade pip' command.\u001b[0m\n"
     ]
    }
   ],
   "source": [
    "! pip install tweepy"
   ]
  },
  {
   "cell_type": "code",
   "execution_count": 34,
   "metadata": {},
   "outputs": [],
   "source": [
    "import tweepy\n",
    "\n",
    "auth = tweepy.OAuthHandler(consumer_key, consumer_secret)\n",
    "auth.set_access_token(access_token, access_token_secret)"
   ]
  },
  {
   "cell_type": "code",
   "execution_count": 67,
   "metadata": {},
   "outputs": [],
   "source": [
    "twitter_api = tweepy.API(auth)\n",
    "tweet = twitter_api.get_status(tweet_id)"
   ]
  },
  {
   "cell_type": "code",
   "execution_count": 55,
   "metadata": {},
   "outputs": [],
   "source": [
    "def parse_tweet(raw_tweet):\n",
    "    parsed_tweet = {}\n",
    "\n",
    "    parsed_tweet[\"id\"] = raw_tweet[\"id\"]\n",
    "\n",
    "    # Style\n",
    "    parsed_tweet[\"text\"] = raw_tweet[\"text\"]\n",
    "    parsed_tweet[\"num_mentions\"] = len(raw_tweet[\"entities\"][\"user_mentions\"])\n",
    "    parsed_tweet[\"num_hashtags\"] = len(raw_tweet[\"entities\"][\"hashtags\"])\n",
    "    parsed_tweet[\"num_urls\"] = len(raw_tweet[\"entities\"][\"urls\"])\n",
    "\n",
    "    if \"media\" in raw_tweet[\"entities\"].keys():\n",
    "        parsed_tweet[\"has_media\"] = True\n",
    "    else:\n",
    "        parsed_tweet[\"has_media\"] = False\n",
    "\n",
    "    # Propagation\n",
    "    parsed_tweet[\"num_likes\"] = raw_tweet[\"favorite_count\"]\n",
    "    parsed_tweet[\"num_retweets\"] = raw_tweet[\"retweet_count\"]\n",
    "\n",
    "    # Credibility\n",
    "    parsed_tweet[\"user_verified\"] = raw_tweet[\"user\"][\"verified\"]\n",
    "    parsed_tweet[\"user_no_profile_image\"] = raw_tweet[\"user\"][\"default_profile_image\"]\n",
    "    parsed_tweet[\"user_num_friends\"] = raw_tweet[\"user\"][\"friends_count\"]\n",
    "    parsed_tweet[\"user_num_followers\"] = raw_tweet[\"user\"][\"followers_count\"]\n",
    "    parsed_tweet[\"user_num_lists\"] = raw_tweet[\"user\"][\"listed_count\"]\n",
    "    parsed_tweet[\"user_num_tweets\"] = raw_tweet[\"user\"][\"statuses_count\"]\n",
    "    parsed_tweet[\"user_num_friends\"] = raw_tweet[\"user\"][\"friends_count\"]\n",
    "    parsed_tweet[\"user_num_favourite_tweets\"] = raw_tweet[\"user\"][\"favourites_count\"]\n",
    "    parsed_tweet[\"user_protected\"] = raw_tweet[\"user\"][\"protected\"]\n",
    "\n",
    "    if raw_tweet[\"coordinates\"] != None:\n",
    "        parsed_tweet[\"has_location\"] = True\n",
    "    else:\n",
    "        parsed_tweet[\"has_location\"] = False\n",
    "\n",
    "    # For filtering\n",
    "    parsed_tweet[\"language\"] = raw_tweet[\"lang\"]\n",
    "\n",
    "    parsed_tweet[\"annotation\"] = None\n",
    "    return parsed_tweet"
   ]
  },
  {
   "cell_type": "code",
   "execution_count": 68,
   "metadata": {},
   "outputs": [],
   "source": [
    "parsed_tweet = parse_tweet(tweet._json)"
   ]
  },
  {
   "cell_type": "code",
   "execution_count": 69,
   "metadata": {},
   "outputs": [],
   "source": [
    "import pandas as pd\n",
    "\n",
    "tweets_df = pd.DataFrame.from_dict([parsed_tweet])"
   ]
  },
  {
   "cell_type": "code",
   "execution_count": 70,
   "metadata": {},
   "outputs": [
    {
     "data": {
      "text/html": [
       "<div>\n",
       "<style scoped>\n",
       "    .dataframe tbody tr th:only-of-type {\n",
       "        vertical-align: middle;\n",
       "    }\n",
       "\n",
       "    .dataframe tbody tr th {\n",
       "        vertical-align: top;\n",
       "    }\n",
       "\n",
       "    .dataframe thead th {\n",
       "        text-align: right;\n",
       "    }\n",
       "</style>\n",
       "<table border=\"1\" class=\"dataframe\">\n",
       "  <thead>\n",
       "    <tr style=\"text-align: right;\">\n",
       "      <th></th>\n",
       "      <th>annotation</th>\n",
       "      <th>has_location</th>\n",
       "      <th>has_media</th>\n",
       "      <th>id</th>\n",
       "      <th>language</th>\n",
       "      <th>num_hashtags</th>\n",
       "      <th>num_likes</th>\n",
       "      <th>num_mentions</th>\n",
       "      <th>num_retweets</th>\n",
       "      <th>num_urls</th>\n",
       "      <th>text</th>\n",
       "      <th>user_no_profile_image</th>\n",
       "      <th>user_num_favourite_tweets</th>\n",
       "      <th>user_num_followers</th>\n",
       "      <th>user_num_friends</th>\n",
       "      <th>user_num_lists</th>\n",
       "      <th>user_num_tweets</th>\n",
       "      <th>user_protected</th>\n",
       "      <th>user_verified</th>\n",
       "    </tr>\n",
       "  </thead>\n",
       "  <tbody>\n",
       "    <tr>\n",
       "      <th>0</th>\n",
       "      <td>None</td>\n",
       "      <td>False</td>\n",
       "      <td>False</td>\n",
       "      <td>552783745565347840</td>\n",
       "      <td>en</td>\n",
       "      <td>1</td>\n",
       "      <td>12</td>\n",
       "      <td>0</td>\n",
       "      <td>99</td>\n",
       "      <td>0</td>\n",
       "      <td>Ten killed in shooting at headquarters of Fren...</td>\n",
       "      <td>False</td>\n",
       "      <td>520</td>\n",
       "      <td>2277592</td>\n",
       "      <td>4525</td>\n",
       "      <td>10286</td>\n",
       "      <td>100783</td>\n",
       "      <td>False</td>\n",
       "      <td>True</td>\n",
       "    </tr>\n",
       "  </tbody>\n",
       "</table>\n",
       "</div>"
      ],
      "text/plain": [
       "  annotation  has_location  has_media                  id language  \\\n",
       "0       None         False      False  552783745565347840       en   \n",
       "\n",
       "   num_hashtags  num_likes  num_mentions  num_retweets  num_urls  \\\n",
       "0             1         12             0            99         0   \n",
       "\n",
       "                                                text  user_no_profile_image  \\\n",
       "0  Ten killed in shooting at headquarters of Fren...                  False   \n",
       "\n",
       "   user_num_favourite_tweets  user_num_followers  user_num_friends  \\\n",
       "0                        520             2277592              4525   \n",
       "\n",
       "   user_num_lists  user_num_tweets  user_protected  user_verified  \n",
       "0           10286           100783           False           True  "
      ]
     },
     "execution_count": 70,
     "metadata": {},
     "output_type": "execute_result"
    }
   ],
   "source": [
    "tweets_df"
   ]
  },
  {
   "cell_type": "markdown",
   "metadata": {},
   "source": [
    "## Text Model"
   ]
  },
  {
   "cell_type": "code",
   "execution_count": 59,
   "metadata": {},
   "outputs": [],
   "source": [
    "from pathlib import Path\n",
    "\n",
    "path = Path('./')"
   ]
  },
  {
   "cell_type": "code",
   "execution_count": 60,
   "metadata": {},
   "outputs": [],
   "source": [
    "from fastai.text import *"
   ]
  },
  {
   "cell_type": "code",
   "execution_count": 61,
   "metadata": {},
   "outputs": [],
   "source": [
    "learn = load_learner(path, file = 'model_clas.pkl')"
   ]
  },
  {
   "cell_type": "code",
   "execution_count": 71,
   "metadata": {},
   "outputs": [
    {
     "name": "stdout",
     "output_type": "stream",
     "text": [
      "(Category True, tensor(1), tensor([0.0858, 0.9142]))\n"
     ]
    }
   ],
   "source": [
    "print(learn.predict(tweet.text))"
   ]
  },
  {
   "cell_type": "markdown",
   "metadata": {},
   "source": [
    "## Tabular Model"
   ]
  },
  {
   "cell_type": "code",
   "execution_count": 63,
   "metadata": {},
   "outputs": [],
   "source": [
    "from fastai.tabular import *"
   ]
  },
  {
   "cell_type": "code",
   "execution_count": 64,
   "metadata": {},
   "outputs": [],
   "source": [
    "learn_tab = load_learner(path, file = 'model_clas_tab.pkl')"
   ]
  },
  {
   "cell_type": "code",
   "execution_count": 72,
   "metadata": {},
   "outputs": [
    {
     "name": "stdout",
     "output_type": "stream",
     "text": [
      "(Category True, tensor(1), tensor([0.1697, 0.8303]))\n"
     ]
    }
   ],
   "source": [
    "print(learn_tab.predict(tweets_df.iloc[0]))"
   ]
  }
 ],
 "metadata": {
  "kernelspec": {
   "display_name": "Python 3",
   "language": "python",
   "name": "python3"
  },
  "language_info": {
   "codemirror_mode": {
    "name": "ipython",
    "version": 3
   },
   "file_extension": ".py",
   "mimetype": "text/x-python",
   "name": "python",
   "nbconvert_exporter": "python",
   "pygments_lexer": "ipython3",
   "version": "3.6.5"
  }
 },
 "nbformat": 4,
 "nbformat_minor": 2
}
